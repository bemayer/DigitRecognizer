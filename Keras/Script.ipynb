{
 "metadata": {
  "language_info": {
   "codemirror_mode": {
    "name": "ipython",
    "version": 3
   },
   "file_extension": ".py",
   "mimetype": "text/x-python",
   "name": "python",
   "nbconvert_exporter": "python",
   "pygments_lexer": "ipython3",
   "version": "3.7.9-final"
  },
  "orig_nbformat": 2,
  "kernelspec": {
   "name": "python3",
   "display_name": "Python 3",
   "language": "python"
  }
 },
 "nbformat": 4,
 "nbformat_minor": 2,
 "cells": [
  {
   "cell_type": "code",
   "execution_count": 9,
   "metadata": {},
   "outputs": [],
   "source": [
    "import pandas as pd\n",
    "import numpy as np\n",
    "data_train = pd.read_csv(\"./Data/data_train.csv\")\n"
   ]
  },
  {
   "cell_type": "code",
   "execution_count": 10,
   "metadata": {},
   "outputs": [],
   "source": [
    "from keras.utils import np_utils\n",
    "K=10\n",
    "y_train = np_utils.to_categorical(data_train.filter(regex=(\"class\")), K)\n",
    "X_train = data_train.filter(regex=(\"pix*\"), axis = 1)"
   ]
  },
  {
   "cell_type": "code",
   "execution_count": 11,
   "metadata": {},
   "outputs": [
    {
     "output_type": "stream",
     "name": "stdout",
     "text": [
      "Epoch 1/25\n",
      "15/15 [==============================] - 0s 5ms/step - loss: 128.3800 - accuracy: 0.4433\n",
      "Epoch 2/25\n",
      "15/15 [==============================] - 0s 7ms/step - loss: 3.3984 - accuracy: 0.9127\n",
      "Epoch 3/25\n",
      "15/15 [==============================] - 0s 3ms/step - loss: 2.0066 - accuracy: 0.9393\n",
      "Epoch 4/25\n",
      "15/15 [==============================] - 0s 5ms/step - loss: 1.5239 - accuracy: 0.9587\n",
      "Epoch 5/25\n",
      "15/15 [==============================] - 0s 10ms/step - loss: 1.2525 - accuracy: 0.9587\n",
      "Epoch 6/25\n",
      "15/15 [==============================] - 0s 5ms/step - loss: 1.4046 - accuracy: 0.9580\n",
      "Epoch 7/25\n",
      "15/15 [==============================] - 0s 4ms/step - loss: 0.7751 - accuracy: 0.9713\n",
      "Epoch 8/25\n",
      "15/15 [==============================] - 0s 7ms/step - loss: 0.8228 - accuracy: 0.9640\n",
      "Epoch 9/25\n",
      "15/15 [==============================] - 0s 7ms/step - loss: 0.6395 - accuracy: 0.9720\n",
      "Epoch 10/25\n",
      "15/15 [==============================] - 0s 5ms/step - loss: 0.5207 - accuracy: 0.9760\n",
      "Epoch 11/25\n",
      "15/15 [==============================] - 0s 5ms/step - loss: 0.4146 - accuracy: 0.9800\n",
      "Epoch 12/25\n",
      "15/15 [==============================] - 0s 5ms/step - loss: 0.3507 - accuracy: 0.9827\n",
      "Epoch 13/25\n",
      "15/15 [==============================] - 0s 9ms/step - loss: 0.3069 - accuracy: 0.9820\n",
      "Epoch 14/25\n",
      "15/15 [==============================] - 0s 9ms/step - loss: 0.2215 - accuracy: 0.9873\n",
      "Epoch 15/25\n",
      "15/15 [==============================] - 0s 7ms/step - loss: 0.2910 - accuracy: 0.9840\n",
      "Epoch 16/25\n",
      "15/15 [==============================] - 0s 8ms/step - loss: 0.2451 - accuracy: 0.9833\n",
      "Epoch 17/25\n",
      "15/15 [==============================] - 0s 5ms/step - loss: 0.1497 - accuracy: 0.9913\n",
      "Epoch 18/25\n",
      "15/15 [==============================] - 0s 10ms/step - loss: 0.1118 - accuracy: 0.9913\n",
      "Epoch 19/25\n",
      "15/15 [==============================] - 0s 5ms/step - loss: 0.0703 - accuracy: 0.9953\n",
      "Epoch 20/25\n",
      "15/15 [==============================] - 0s 6ms/step - loss: 0.1208 - accuracy: 0.9880\n",
      "Epoch 21/25\n",
      "15/15 [==============================] - 0s 5ms/step - loss: 0.0786 - accuracy: 0.9887\n",
      "Epoch 22/25\n",
      "15/15 [==============================] - 0s 9ms/step - loss: 0.0573 - accuracy: 0.9927\n",
      "Epoch 23/25\n",
      "15/15 [==============================] - 0s 6ms/step - loss: 0.0145 - accuracy: 0.9973\n",
      "Epoch 24/25\n",
      "15/15 [==============================] - 0s 6ms/step - loss: 1.2251e-04 - accuracy: 1.0000\n",
      "Epoch 25/25\n",
      "15/15 [==============================] - 0s 5ms/step - loss: 2.3884e-05 - accuracy: 1.0000\n",
      "loss: 0.00%\n",
      "accuracy: 100.00%\n"
     ]
    }
   ],
   "source": [
    "from keras.models import Sequential\n",
    "model = Sequential()\n",
    "\n",
    "from keras.layers import Dense, Activation\n",
    "model.add(Dense(10,  input_dim=240, name='fc1'))\n",
    "model.add(Activation('softmax'))\n",
    "\n",
    "from keras.optimizers import SGD\n",
    "learning_rate = 0.5\n",
    "sgd = SGD(learning_rate)\n",
    "model.compile(loss='categorical_crossentropy',optimizer=sgd,metrics=['accuracy'])\n",
    "batch_size = 100\n",
    "nb_epoch = 25\n",
    "model.fit(X_train, y_train,batch_size=batch_size, epochs=nb_epoch,verbose=1)\n",
    "scores = model.evaluate(X_train, y_train, verbose=0)\n",
    "print(\"%s: %.2f%%\" % (model.metrics_names[0], scores[0]*100))\n",
    "print(\"%s: %.2f%%\" % (model.metrics_names[1], scores[1]*100))"
   ]
  },
  {
   "cell_type": "code",
   "execution_count": 12,
   "metadata": {},
   "outputs": [
    {
     "output_type": "stream",
     "name": "stdout",
     "text": [
      "Epoch 1/10\n",
      "15/15 [==============================] - 0s 19ms/step - loss: 12141687.0000 - accuracy: 0.1120\n",
      "Epoch 2/10\n",
      "15/15 [==============================] - 0s 10ms/step - loss: 8918977.0000 - accuracy: 0.2167\n",
      "Epoch 3/10\n",
      "15/15 [==============================] - 0s 8ms/step - loss: 5909822.0000 - accuracy: 0.2960\n",
      "Epoch 4/10\n",
      "15/15 [==============================] - 0s 5ms/step - loss: 5956811.5000 - accuracy: 0.3387\n",
      "Epoch 5/10\n",
      "15/15 [==============================] - 0s 6ms/step - loss: 6344048.5000 - accuracy: 0.2947\n",
      "Epoch 6/10\n",
      "15/15 [==============================] - 0s 6ms/step - loss: 4799657.5000 - accuracy: 0.3833\n",
      "Epoch 7/10\n",
      "15/15 [==============================] - 0s 5ms/step - loss: 4455247.0000 - accuracy: 0.4100\n",
      "Epoch 8/10\n",
      "15/15 [==============================] - 0s 8ms/step - loss: 2852264.5000 - accuracy: 0.5347\n",
      "Epoch 9/10\n",
      "15/15 [==============================] - 0s 7ms/step - loss: 2978908.2500 - accuracy: 0.4833\n",
      "Epoch 10/10\n",
      "15/15 [==============================] - 0s 7ms/step - loss: 2972213.5000 - accuracy: 0.4987\n",
      "loss: 0.00%\n",
      "accuracy: 100.00%\n"
     ]
    }
   ],
   "source": [
    "model2 = Sequential()\n",
    "X_train2 = data_train.filter(regex=(\"^(?!class)\"), axis = 1)\n",
    "model2.add(Dense(10,  input_dim=649, name='fc1'))\n",
    "model2.add(Activation('softmax'))\n",
    "learning_rate = 0.5\n",
    "sgd = SGD(learning_rate)\n",
    "model2.compile(loss='categorical_crossentropy',optimizer=sgd,metrics=['accuracy'])\n",
    "batch_size = 100\n",
    "nb_epoch = 10\n",
    "model2.fit(X_train2, y_train,batch_size=batch_size, epochs=nb_epoch,verbose=1)\n",
    "scores2 = model2.evaluate(X_train2, y_train, verbose=0)\n",
    "print(\"%s: %.2f%%\" % (model2.metrics_names[0], scores[0]*100))\n",
    "print(\"%s: %.2f%%\" % (model2.metrics_names[1], scores[1]*100))\n"
   ]
  },
  {
   "cell_type": "code",
   "execution_count": 13,
   "metadata": {},
   "outputs": [
    {
     "output_type": "stream",
     "name": "stdout",
     "text": [
      "[50.394382 51.006756 49.726196 56.822254 50.56327  44.106724 48.041573\n 49.243156 48.910583 51.185112]\n"
     ]
    }
   ],
   "source": [
    "X_test2 = pd.read_csv(\"./Data/data_test.csv\")\n",
    "y_test2 = model2.predict(X_test2)\n",
    "\n",
    "X_test = X_test2.filter(regex=(\"pix*\"), axis = 1)\n",
    "y_test = model.predict(X_test)\n",
    "\n",
    "np.savetxt(\"pred\", y_test)\n",
    "\n",
    "print(y_test.sum(axis = 0))\n",
    "\n",
    "with open('pred.csv', 'w') as pred_file:\n",
    "    for l in range(0, 500):\n",
    "        sum = 0\n",
    "        for c in range(0, 10):\n",
    "            sum = sum + c * y_test[l,c]\n",
    "        pred_file.write('{:.0f}'.format(sum)+ '\\n')"
   ]
  }
 ]
}